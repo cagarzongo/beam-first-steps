{
 "cells": [
  {
   "cell_type": "code",
   "execution_count": null,
   "metadata": {},
   "outputs": [],
   "source": [
    "import apache_beam as beam\n",
    "from apache_beam.io import ReadFromText\n",
    "from apache_beam.io import WriteToText\n",
    "from apache_beam.runners.interactive.interactive_runner import InteractiveRunner\n",
    "import apache_beam.runners.interactive.interactive_beam as ib"
   ]
  },
  {
   "cell_type": "code",
   "execution_count": null,
   "metadata": {},
   "outputs": [],
   "source": [
    "import re\n",
    "\n",
    "class WordExtractingDoFn(beam.DoFn):\n",
    "  \"\"\"Parse each line of input text into words.\"\"\"\n",
    "  def process(self, element):\n",
    "    \"\"\"Returns an iterator over the words of this element.\n",
    "\n",
    "    The element is a line of text.  If the line is blank, note that, too.\n",
    "\n",
    "    Args:\n",
    "      element: the element being processed\n",
    "\n",
    "    Returns:\n",
    "      The processed element.\n",
    "    \"\"\"\n",
    "    return re.findall(r'[\\w\\']+', element, re.UNICODE)"
   ]
  },
  {
   "cell_type": "code",
   "execution_count": null,
   "metadata": {},
   "outputs": [],
   "source": [
    "# Define arguments\n",
    "input_path = \"my_text.txt\"\n",
    "output_path = \"outputs/file.txt\""
   ]
  },
  {
   "cell_type": "code",
   "execution_count": null,
   "metadata": {},
   "outputs": [],
   "source": [
    "# Define pipeline\n",
    "p = beam.Pipeline(InteractiveRunner())"
   ]
  },
  {
   "cell_type": "code",
   "execution_count": null,
   "metadata": {},
   "outputs": [],
   "source": [
    "# Read the text file[pattern] into a PCollection.\n",
    "lines = p | 'Read' >> ReadFromText(input_path)\n",
    "ib.show(lines)"
   ]
  },
  {
   "cell_type": "code",
   "execution_count": null,
   "metadata": {},
   "outputs": [],
   "source": [
    "counts = (\n",
    "    lines\n",
    "    | 'Split' >> (beam.ParDo(WordExtractingDoFn()).with_output_types(str))\n",
    "    | 'PairWithOne' >> beam.Map(lambda x: (x, 1))\n",
    "    | 'GroupAndSum' >> beam.CombinePerKey(sum))\n",
    "ib.show(counts)"
   ]
  },
  {
   "cell_type": "code",
   "execution_count": null,
   "metadata": {},
   "outputs": [],
   "source": [
    "output1 = lines | (beam.ParDo(WordExtractingDoFn()).with_output_types(str))\n",
    "ib.show(output1)"
   ]
  },
  {
   "cell_type": "code",
   "execution_count": null,
   "metadata": {},
   "outputs": [],
   "source": [
    "output2 = output1 | 'PairWithOne' >> beam.Map(lambda x: (x, 1))\n",
    "ib.show(output2)"
   ]
  },
  {
   "cell_type": "code",
   "execution_count": null,
   "metadata": {},
   "outputs": [],
   "source": [
    "# Format the counts into a PCollection of strings.\n",
    "def format_result(word, count):\n",
    "    return '%s: %d' % (word, count)\n",
    "\n",
    "output = counts | 'Format' >> beam.MapTuple(format_result)\n",
    "\n",
    "ib.show(output)"
   ]
  },
  {
   "cell_type": "code",
   "execution_count": null,
   "metadata": {},
   "outputs": [],
   "source": [
    "_ = output | \"Write\" >> WriteToText(output_path)\n",
    "ib.collect(_)"
   ]
  }
 ],
 "metadata": {
  "kernelspec": {
   "display_name": "Python 3.8.9 64-bit",
   "language": "python",
   "name": "python3"
  },
  "language_info": {
   "codemirror_mode": {
    "name": "ipython",
    "version": 3
   },
   "file_extension": ".py",
   "mimetype": "text/x-python",
   "name": "python",
   "nbconvert_exporter": "python",
   "pygments_lexer": "ipython3",
   "version": "3.8.9"
  },
  "vscode": {
   "interpreter": {
    "hash": "31f2aee4e71d21fbe5cf8b01ff0e069b9275f58929596ceb00d14d90e3e16cd6"
   }
  }
 },
 "nbformat": 4,
 "nbformat_minor": 4
}
